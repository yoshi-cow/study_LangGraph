{
 "cells": [
  {
   "cell_type": "markdown",
   "metadata": {
    "id": "DwhHTI5v-jrk"
   },
   "source": [
    "# LangGraphサンプルコード\n",
    "* 『LangChainとLangGraphによるRAG・AIエージェント実践入門』より"
   ]
  },
  {
   "cell_type": "code",
   "execution_count": 1,
   "metadata": {
    "colab": {
     "base_uri": "https://localhost:8080/"
    },
    "executionInfo": {
     "elapsed": 7212,
     "status": "ok",
     "timestamp": 1751429335473,
     "user": {
      "displayName": "yo it",
      "userId": "02303648966403166717"
     },
     "user_tz": -540
    },
    "id": "hcjTLidE66Aq",
    "outputId": "794aae4c-81f0-4650-b955-1ecd65df06cd"
   },
   "outputs": [],
   "source": [
    "# !pip install langchain==0.3.0 langchain-openai==0.2.0 langgraph==0.2.22"
   ]
  },
  {
   "cell_type": "code",
   "execution_count": 10,
   "metadata": {
    "executionInfo": {
     "elapsed": 11,
     "status": "ok",
     "timestamp": 1751429339836,
     "user": {
      "displayName": "yo it",
      "userId": "02303648966403166717"
     },
     "user_tz": -540
    },
    "id": "75vr50P8-Yf8"
   },
   "outputs": [],
   "source": [
    "# import os\n",
    "\n",
    "# os.environ[\"OPENAI_API_KEY\"] = OPENAI_API_KEY\n",
    "# os.environ[\"LANGCHAIN_TRACING_V2\"] = \"true\"\n",
    "# os.environ[\"LANGCHAIN_ENDPOINT\"] = \"https://api.smith.langchain.com\"\n",
    "# os.environ[\"LANGCHAIN_API_KEY\"] = LANGCHAIN_API_KEY\n",
    "# os.environ[\"LANGCHAIN_PROJECT\"] = LANGCHAIN_PROJECT"
   ]
  },
  {
   "cell_type": "code",
   "execution_count": 9,
   "metadata": {
    "executionInfo": {
     "elapsed": 17,
     "status": "ok",
     "timestamp": 1751429338951,
     "user": {
      "displayName": "yo it",
      "userId": "02303648966403166717"
     },
     "user_tz": -540
    },
    "id": "yBDUidFv-PsW"
   },
   "outputs": [],
   "source": [
    "from dotenv import load_dotenv\n",
    "load_dotenv()"
   ]
  },
  {
   "cell_type": "markdown",
   "metadata": {
    "id": "o-0HvlHe-zXJ"
   },
   "source": [
    "## ロール定義\n",
    "* 今回のアプリでは、回答を生成する前に、回答を担当するためのロールを選択する処理が入る。ここであらかじめ定義したロールをLLMに選択させるようにする。"
   ]
  },
  {
   "cell_type": "code",
   "execution_count": 11,
   "metadata": {
    "executionInfo": {
     "elapsed": 2,
     "status": "ok",
     "timestamp": 1751429341557,
     "user": {
      "displayName": "yo it",
      "userId": "02303648966403166717"
     },
     "user_tz": -540
    },
    "id": "jTOc2wLM-rF3"
   },
   "outputs": [],
   "source": [
    "### ロール定義\n",
    "ROLES = {\n",
    "    \"1\": {\n",
    "        \"name\": \"一般知識エキスパート\",\n",
    "        \"description\": \"幅広い分野の一般的な質問に答える\",\n",
    "        \"details\": \"幅広い分野の一般的な質問に対して、正確でわかりやすい回答を提供してください。\"\n",
    "    },\n",
    "    \"2\": {\n",
    "        \"name\": \"生成AIエキスパート\",\n",
    "        \"description\": \"生成AIや関連製品、技術に関する専門的な質問に答える\",\n",
    "        \"details\": \"生成AIや関連製品、技術に関する専門的な質問に対して、最新の情報と深い洞察を提供してください。\"\n",
    "    },\n",
    "    \"3\": {\n",
    "        \"name\": \"カウンセラー\",\n",
    "        \"description\": \"個人的な悩みや心理的な問題に対してサポートを提供する\",\n",
    "        \"details\": \"個人的な悩みや心理的な問題に対して、共感的で支援的な回答を提供し、可能であれば適切なアドバイスも行ってください。\"\n",
    "    }\n",
    "}"
   ]
  },
  {
   "cell_type": "markdown",
   "metadata": {
    "id": "WmZjTVjK_-5H"
   },
   "source": [
    "## ステートの定義\n",
    "* アプリのステートを表現するStateクラスを定義"
   ]
  },
  {
   "cell_type": "code",
   "execution_count": 12,
   "metadata": {
    "executionInfo": {
     "elapsed": 31,
     "status": "ok",
     "timestamp": 1751429343313,
     "user": {
      "displayName": "yo it",
      "userId": "02303648966403166717"
     },
     "user_tz": -540
    },
    "id": "WUgo85YC_82V"
   },
   "outputs": [],
   "source": [
    "import operator\n",
    "from typing import Annotated\n",
    "\n",
    "from langchain_core.pydantic_v1 import BaseModel, Field\n",
    "\n",
    "class State(BaseModel):\n",
    "    query: str = Field(\n",
    "        ..., description=\"ユーザーからの質問\"\n",
    "    ) # `...`で必須を表す\n",
    "    current_role: str = Field(\n",
    "        default=\"\", description=\"選定された回答ロール\"\n",
    "    )\n",
    "    messages: Annotated[list[str], operator.add] = Field(\n",
    "        default=[], description=\"回答履歴\"\n",
    "    ) # operator.addで、リストに新しい情報を追加できることを示す\n",
    "    current_judge: bool = Field(\n",
    "        default=False, description=\"品質チェックの結果\"\n",
    "    )\n",
    "    judgement_reason: str = Field(\n",
    "        default=\"\", description=\"品質チェックの判定理由\"\n",
    "    )"
   ]
  },
  {
   "cell_type": "markdown",
   "metadata": {
    "id": "xfqTP8P-BVuq"
   },
   "source": [
    "## Chat modelの初期化\n",
    "* ノードの実装で利用するチャットモデルを初期化する。"
   ]
  },
  {
   "cell_type": "code",
   "execution_count": 13,
   "metadata": {
    "executionInfo": {
     "elapsed": 133,
     "status": "ok",
     "timestamp": 1751429345602,
     "user": {
      "displayName": "yo it",
      "userId": "02303648966403166717"
     },
     "user_tz": -540
    },
    "id": "ffcyIHXkBU3s"
   },
   "outputs": [],
   "source": [
    "from langchain_openai import ChatOpenAI\n",
    "from langchain_core.runnables import ConfigurableField\n",
    "\n",
    "llm = ChatOpenAI(model=\"gpt-4o\", temperature=0.0)\n",
    "# 後からmax_tokensの値を変更できるように、変更可能なフィールドを宣言\n",
    "llm = llm.configurable_fields(max_tokens=ConfigurableField(id='max_tokens'))"
   ]
  },
  {
   "cell_type": "markdown",
   "metadata": {
    "id": "LDJocbGVB80l"
   },
   "source": [
    "## ノードの定義\n",
    "* グラフの各ノードを関数として定義する。各ノードは現在のステートを受け取り、ステートの更新差分を辞書型で返す。\n",
    "\n",
    "### selectionノードの実装\n",
    "* 回答ロールの選定を行うselectionノードでは、各ロールに対応する番号のみをLLMに応答させるプロンプトを設定している。LLMによる処理の後、番号に対応するロール名をステートに設定する。"
   ]
  },
  {
   "cell_type": "code",
   "execution_count": 14,
   "metadata": {
    "executionInfo": {
     "elapsed": 44,
     "status": "ok",
     "timestamp": 1751429352046,
     "user": {
      "displayName": "yo it",
      "userId": "02303648966403166717"
     },
     "user_tz": -540
    },
    "id": "1KFgpc_VCvjA"
   },
   "outputs": [],
   "source": [
    "from typing import Any\n",
    "\n",
    "from langchain_core.prompts import ChatPromptTemplate\n",
    "from langchain_core.output_parsers import StrOutputParser\n",
    "\n",
    "def selection_node(state: State) -> dict[str, Any]:\n",
    "    \"\"\"\n",
    "    ユーザーからの質問に対するロールを選択するLLM関数\n",
    "    \"\"\"\n",
    "    query = state.query\n",
    "\n",
    "    role_options =\"\\n\".join([f\"{k}.{v['name']}: {v['description']}\" for k, v in ROLES.items()]) # ROLEの中身をすべて文字列化\n",
    "\n",
    "    prompt = ChatPromptTemplate.from_template(\n",
    "        \"\"\"\n",
    "    質問を分析し、最も適切な回答担当ロールを選択してください。\n",
    "\n",
    "    選択肢：\n",
    "    {role_options}\n",
    "\n",
    "    回答は選択肢の番号（１，２，または３）のみを返してください。\n",
    "\n",
    "    質問：{query}\n",
    "    \"\"\".strip()\n",
    "    )\n",
    "\n",
    "    # 選択肢の番号のみを返すことを期待したいため、max_tokensの値を１に変更\n",
    "    chain = prompt | llm.with_config(configurable=dict(max_tokens=1)) | StrOutputParser()\n",
    "    role_number = chain.invoke({\"role_options\": role_options, \"query\": query})\n",
    "\n",
    "    # 選択されたロール番号に対する\"name\"要素を取得\n",
    "    selected_role = ROLES[role_number.strip()][\"name\"]\n",
    "\n",
    "    return {\"current_role\": selected_role}"
   ]
  },
  {
   "cell_type": "markdown",
   "metadata": {
    "id": "Ny9OuAOnFBEa"
   },
   "source": [
    "### answeringノードの実装\n",
    "* 選定されたロールに基づいて回答を行うansweringノードでは、ロールに基づいた回答を提供するようにプロンプトを設定\n",
    "* LLMによる処理の後、応答をmessagesリストに追加している"
   ]
  },
  {
   "cell_type": "code",
   "execution_count": 16,
   "metadata": {
    "executionInfo": {
     "elapsed": 42,
     "status": "ok",
     "timestamp": 1751429910499,
     "user": {
      "displayName": "yo it",
      "userId": "02303648966403166717"
     },
     "user_tz": -540
    },
    "id": "LB_GirP2B62j"
   },
   "outputs": [],
   "source": [
    "def answering_node(state: State) -> dict[str, Any]:\n",
    "    \"\"\"\n",
    "    選定されたロールに基づいて回答を行うLLM関数\n",
    "    \"\"\"\n",
    "    query = state.query\n",
    "\n",
    "    role = state.current_role\n",
    "\n",
    "    role_details = \"\\n\".join([f\"- {v['name']}: {v['details']}\" for v in ROLES.values()]) # name: detailsで、すべてのname: detailsを文字列化\n",
    "    # 上記role_detailsですべての役割を説明する文章と、roleを渡すことで、対象roleがどんな処理を行うかをLLMが理解できるようになる\n",
    "\n",
    "    prompt = ChatPromptTemplate.from_template(\n",
    "        \"\"\"\n",
    "        あなたは{role}として回答してください。以下の質問に対して、あなたの役割に基づいた適切な回答を提供してください。\n",
    "\n",
    "        役割の詳細：\n",
    "        {role_details}\n",
    "\n",
    "        質問：{query}\n",
    "\n",
    "        回答：\"\"\".strip()\n",
    "    )\n",
    "    chain = prompt | llm | StrOutputParser()\n",
    "    answer = chain.invoke({\"role\": role, \"role_details\": role_details, \"query\": query})\n",
    "\n",
    "    return {\"messages\": [answer]}"
   ]
  },
  {
   "cell_type": "markdown",
   "metadata": {
    "id": "wAVY6MorW6Sz"
   },
   "source": [
    "### checkノードの実装\n",
    "* 最後に回答の品質をチェックするcheckノードでは、ユーザーの質問と回答の内容をもとに品質チェックを行うプロンプトを設定する。\n",
    "* Chat modelにwith_structured_outputを指定することで、生成結果の内容が1Judgementモデルの内容として返却されるように指示する。"
   ]
  },
  {
   "cell_type": "code",
   "execution_count": 17,
   "metadata": {
    "executionInfo": {
     "elapsed": 46,
     "status": "ok",
     "timestamp": 1751430263504,
     "user": {
      "displayName": "yo it",
      "userId": "02303648966403166717"
     },
     "user_tz": -540
    },
    "id": "kKM98sJNCtij"
   },
   "outputs": [],
   "source": [
    "class Judgement(BaseModel):\n",
    "    reason: str = Field(default=\"\", description=\"判定理由\")\n",
    "    judge: bool = Field(default=False, description=\"判定結果\")\n",
    "\n",
    "def check__node(state: State) -> dict[str, Any]:\n",
    "    query = state.query\n",
    "    answer = state.messages[-1]\n",
    "    prompt = ChatPromptTemplate.from_template(\n",
    "        \"\"\"\n",
    "        以下の回答の品質をチェックし、問題がある場合は'False'、問題がない場合は'True'を回答してください。\n",
    "        また、その判断理由も説明してください。\n",
    "\n",
    "        ユーザーからの質問：{query}\n",
    "        回答：{answer}\n",
    "        \"\"\".strip()\n",
    "    )\n",
    "    chain = prompt | llm.with_structured_output(Judgement)\n",
    "    result: Judgement = chain.invoke({\"query\": query, \"answer\": answer})\n",
    "\n",
    "    return {\n",
    "        \"current_judge\": result.judge,\n",
    "        \"judgement_reason\": result.reason\n",
    "        }"
   ]
  },
  {
   "cell_type": "markdown",
   "metadata": {
    "id": "7rGf7DnyYQDu"
   },
   "source": [
    "## グラフの作成\n",
    "* StateGraphクラスを使用してグラフのインスタンスを作成\n",
    "* Azureでスレッドを設定するときに、スレッドの初期状態として、各種変数の初期値をセットしたが、それと同じような処理"
   ]
  },
  {
   "cell_type": "code",
   "execution_count": 18,
   "metadata": {
    "executionInfo": {
     "elapsed": 3,
     "status": "ok",
     "timestamp": 1751430406851,
     "user": {
      "displayName": "yo it",
      "userId": "02303648966403166717"
     },
     "user_tz": -540
    },
    "id": "zw80uSRsVsSL"
   },
   "outputs": [],
   "source": [
    "from langgraph.graph import StateGraph\n",
    "\n",
    "workflow = StateGraph(State)"
   ]
  },
  {
   "cell_type": "markdown",
   "metadata": {
    "id": "fYjnu3TZYy0t"
   },
   "source": [
    "## ノードの追加\n",
    "* `add_node`関数を使用して`selection`ノード、`answering`ノード、`check`ノードを追加する。\n",
    "* それぞれの第１引数にはノード名を記載し、第２引数にはノードの定義で作成した関数を紐づける。"
   ]
  },
  {
   "cell_type": "code",
   "execution_count": 19,
   "metadata": {
    "executionInfo": {
     "elapsed": 42,
     "status": "ok",
     "timestamp": 1751430491767,
     "user": {
      "displayName": "yo it",
      "userId": "02303648966403166717"
     },
     "user_tz": -540
    },
    "id": "lJbfC8BaYyHp"
   },
   "outputs": [],
   "source": [
    "workflow.add_node(\"selection\", selection_node)\n",
    "workflow.add_node(\"answering\", answering_node)\n",
    "workflow.add_node(\"check\", check__node)"
   ]
  },
  {
   "cell_type": "markdown",
   "metadata": {
    "id": "0ywqpyzjZKsN"
   },
   "source": [
    "## エッジの定義\n",
    "* ワークフローには出発点となるノードをエッジで指定する必要がある。\n",
    "* 出発点となるノードは`set_entry_point`関数で定義する。"
   ]
  },
  {
   "cell_type": "code",
   "execution_count": 20,
   "metadata": {
    "executionInfo": {
     "elapsed": 3,
     "status": "ok",
     "timestamp": 1751430582600,
     "user": {
      "displayName": "yo it",
      "userId": "02303648966403166717"
     },
     "user_tz": -540
    },
    "id": "3jTVPyfdZG14"
   },
   "outputs": [],
   "source": [
    "# selectionノードから処理を開始\n",
    "workflow.set_entry_point(\"selection\")"
   ]
  },
  {
   "cell_type": "markdown",
   "metadata": {
    "id": "LXNWG_yyZdlO"
   },
   "source": [
    "* 次に、どのノード同士が接続されているかを定義する。\n",
    "* `add_edge`関数を用いる。"
   ]
  },
  {
   "cell_type": "code",
   "execution_count": 21,
   "metadata": {
    "executionInfo": {
     "elapsed": 3,
     "status": "ok",
     "timestamp": 1751430694433,
     "user": {
      "displayName": "yo it",
      "userId": "02303648966403166717"
     },
     "user_tz": -540
    },
    "id": "aEGX_3yAZdBw"
   },
   "outputs": [],
   "source": [
    "# selectionノードからansweringノードへ\n",
    "workflow.add_edge(\"selection\", \"answering\")\n",
    "\n",
    "# answeringノードからcheckノードへ\n",
    "workflow.add_edge(\"answering\", \"check\")"
   ]
  },
  {
   "cell_type": "markdown",
   "metadata": {
    "id": "6gz5IsRvZ7mk"
   },
   "source": [
    "## 条件付きエッジの定義\n",
    "* 条件分岐を含むエッジを定義する場合は、条件付きエッジを利用する。\n",
    "* 定義には、`add_conditional_edges`関数を用いる。\n",
    "* 今回は、品質チェックで真（True）を返した場合のみ、処理を終了するように条件付けをするため、第２引数でステートの`current_judge`の値によって条件分岐させる。current_judgeの値がTrueの場合は組み込みで終点ノードとして定義されている`END`に遷移し、Falseの場合は、`selection`ノードに遷移するよう、第３引数において辞書型で指定する。"
   ]
  },
  {
   "cell_type": "code",
   "execution_count": 22,
   "metadata": {
    "executionInfo": {
     "elapsed": 5,
     "status": "ok",
     "timestamp": 1751431006303,
     "user": {
      "displayName": "yo it",
      "userId": "02303648966403166717"
     },
     "user_tz": -540
    },
    "id": "fOnbr9UxZ4VA"
   },
   "outputs": [],
   "source": [
    "from langgraph.graph import END\n",
    "\n",
    "# checkノードから次のノードへの遷移に条件付きエッジを定義\n",
    "# state.current_judgeの値がTrueならENDノードへ、Falseならselectionノードへ遷移\n",
    "workflow.add_conditional_edges(\n",
    "    \"check\",\n",
    "    lambda state: state.current_judge,\n",
    "    {True: END, False: \"selection\"}\n",
    ")"
   ]
  },
  {
   "cell_type": "markdown",
   "metadata": {
    "id": "6rA9u23pbFfn"
   },
   "source": [
    "## グラフのコンパイル\n",
    "* グラフの定義が完了したら、`compile`関数を実行し、`CompiledGraph`クラスのインスタンスに変換する"
   ]
  },
  {
   "cell_type": "code",
   "execution_count": 23,
   "metadata": {
    "executionInfo": {
     "elapsed": 4,
     "status": "ok",
     "timestamp": 1751431058936,
     "user": {
      "displayName": "yo it",
      "userId": "02303648966403166717"
     },
     "user_tz": -540
    },
    "id": "y10GLNDgbEd_"
   },
   "outputs": [],
   "source": [
    "compiled = workflow.compile()"
   ]
  },
  {
   "cell_type": "markdown",
   "metadata": {
    "id": "ob5nltfIbSlp"
   },
   "source": [
    "## グラフの実行\n",
    "* 処理の実行時、処理の引数には初期のステートを設定する。（質問文をStateにセットするだけ）"
   ]
  },
  {
   "cell_type": "code",
   "execution_count": 24,
   "metadata": {
    "executionInfo": {
     "elapsed": 9475,
     "status": "ok",
     "timestamp": 1751431192632,
     "user": {
      "displayName": "yo it",
      "userId": "02303648966403166717"
     },
     "user_tz": -540
    },
    "id": "_xLA6PqqbRUm"
   },
   "outputs": [],
   "source": [
    "initial_state = State(query=\"生成AIについて教えてください\")\n",
    "result = compiled.invoke(initial_state)"
   ]
  },
  {
   "cell_type": "code",
   "execution_count": 25,
   "metadata": {
    "colab": {
     "base_uri": "https://localhost:8080/"
    },
    "executionInfo": {
     "elapsed": 29,
     "status": "ok",
     "timestamp": 1751431203151,
     "user": {
      "displayName": "yo it",
      "userId": "02303648966403166717"
     },
     "user_tz": -540
    },
    "id": "2VJvJNa1bvpW",
    "outputId": "8c7fdf0d-e37e-45b2-d9aa-ecac2fd68749"
   },
   "outputs": [
    {
     "data": {
      "text/plain": [
       "{'query': '生成AIについて教えてください',\n",
       " 'current_role': '生成AIエキスパート',\n",
       " 'messages': ['生成AIエキスパートとしてお答えします。\\n\\n生成AI（生成的人工知能）は、人工知能の一分野であり、新しいデータやコンテンツを生成する能力を持つモデルを指します。これには、テキスト、画像、音声、音楽など、さまざまな形式のコンテンツが含まれます。生成AIの代表的な技術には、以下のようなものがあります。\\n\\n1. **自然言語処理（NLP）モデル**: 例えば、GPT（Generative Pre-trained Transformer）シリーズは、テキストの生成や翻訳、要約などに用いられます。これらのモデルは、大量のテキストデータを学習し、人間のように自然な文章を生成することができます。\\n\\n2. **画像生成モデル**: GAN（Generative Adversarial Networks）やVAE（Variational Autoencoders）などの技術を用いて、新しい画像を生成します。これにより、アート作品の創作や、現実には存在しない人物の顔を生成することが可能です。\\n\\n3. **音声合成**: TTS（Text-to-Speech）技術を用いて、テキストから自然な音声を生成します。これにより、音声アシスタントやナレーションの自動生成が可能になります。\\n\\n生成AIは、クリエイティブな分野での応用が進んでおり、映画や音楽、広告などでの活用が期待されています。また、教育や医療などの分野でも、個別化されたコンテンツの提供に役立つ可能性があります。しかし、生成AIの利用には倫理的な課題も伴い、フェイクニュースの生成や著作権の問題などが議論されています。\\n\\nこの分野は急速に進化しており、今後も新しい技術や応用が登場することが予想されます。'],\n",
       " 'current_judge': True,\n",
       " 'judgement_reason': '回答は生成AIについての基本的な情報を網羅しており、自然言語処理、画像生成、音声合成などの具体的な技術例を挙げて説明しています。また、生成AIの応用分野や倫理的な課題についても触れており、ユーザーに対して包括的な理解を提供しています。特に問題となる誤りや不正確な情報は含まれていません。'}"
      ]
     },
     "execution_count": 25,
     "metadata": {},
     "output_type": "execute_result"
    }
   ],
   "source": [
    "result"
   ]
  },
  {
   "cell_type": "code",
   "execution_count": 26,
   "metadata": {
    "colab": {
     "base_uri": "https://localhost:8080/"
    },
    "executionInfo": {
     "elapsed": 6,
     "status": "ok",
     "timestamp": 1751431263324,
     "user": {
      "displayName": "yo it",
      "userId": "02303648966403166717"
     },
     "user_tz": -540
    },
    "id": "C8RuYVGzb0he",
    "outputId": "b0bf7666-7399-4a39-b77e-6ccf0928953c"
   },
   "outputs": [
    {
     "name": "stdout",
     "output_type": "stream",
     "text": [
      "生成AIエキスパートとしてお答えします。\n",
      "\n",
      "生成AI（生成的人工知能）は、人工知能の一分野であり、新しいデータやコンテンツを生成する能力を持つモデルを指します。これには、テキスト、画像、音声、音楽など、さまざまな形式のコンテンツが含まれます。生成AIの代表的な技術には、以下のようなものがあります。\n",
      "\n",
      "1. **自然言語処理（NLP）モデル**: 例えば、GPT（Generative Pre-trained Transformer）シリーズは、テキストの生成や翻訳、要約などに用いられます。これらのモデルは、大量のテキストデータを学習し、人間のように自然な文章を生成することができます。\n",
      "\n",
      "2. **画像生成モデル**: GAN（Generative Adversarial Networks）やVAE（Variational Autoencoders）などの技術を用いて、新しい画像を生成します。これにより、アート作品の創作や、現実には存在しない人物の顔を生成することが可能です。\n",
      "\n",
      "3. **音声合成**: TTS（Text-to-Speech）技術を用いて、テキストから自然な音声を生成します。これにより、音声アシスタントやナレーションの自動生成が可能になります。\n",
      "\n",
      "生成AIは、クリエイティブな分野での応用が進んでおり、映画や音楽、広告などでの活用が期待されています。また、教育や医療などの分野でも、個別化されたコンテンツの提供に役立つ可能性があります。しかし、生成AIの利用には倫理的な課題も伴い、フェイクニュースの生成や著作権の問題などが議論されています。\n",
      "\n",
      "この分野は急速に進化しており、今後も新しい技術や応用が登場することが予想されます。\n"
     ]
    }
   ],
   "source": [
    "print(result['messages'][-1])"
   ]
  },
  {
   "cell_type": "markdown",
   "metadata": {
    "id": "xEnrUAJ_cIBx"
   },
   "source": [
    "## グラフ構造をビジュアライズして表示する"
   ]
  },
  {
   "cell_type": "code",
   "execution_count": 1,
   "metadata": {
    "colab": {
     "base_uri": "https://localhost:8080/"
    },
    "executionInfo": {
     "elapsed": 32704,
     "status": "ok",
     "timestamp": 1751431435698,
     "user": {
      "displayName": "yo it",
      "userId": "02303648966403166717"
     },
     "user_tz": -540
    },
    "id": "sCDYTBRScDN1",
    "outputId": "c24fcb44-d52d-443b-d4ae-74d8adfd979e"
   },
   "outputs": [],
   "source": [
    "# !apt-get install graphviz libgraphviz-dev pkg-config\n",
    "# !pip install pygraphviz"
   ]
  },
  {
   "cell_type": "markdown",
   "metadata": {
    "id": "bqCXvs3HcxDs"
   },
   "source": [
    "* `compile`関数を実行して得られた`CompiledGraph`クラスのインスタンスの`get_graph`関数を利用することで、グラフの構造情報を取得でき、さらに`draw_png`関数でグラフ構造をPNG画像として取得できる。"
   ]
  },
  {
   "cell_type": "code",
   "execution_count": 29,
   "metadata": {
    "colab": {
     "base_uri": "https://localhost:8080/",
     "height": 673
    },
    "executionInfo": {
     "elapsed": 250,
     "status": "ok",
     "timestamp": 1751431554324,
     "user": {
      "displayName": "yo it",
      "userId": "02303648966403166717"
     },
     "user_tz": -540
    },
    "id": "UQLt9_31cV-d",
    "outputId": "c36a68bd-96d4-495d-fb68-f23189ac2e88"
   },
   "outputs": [
    {
     "data": {
      "image/png": "[encoded data removed]",
      "text/plain": [
       "<IPython.core.display.Image object>"
      ]
     },
     "execution_count": 29,
     "metadata": {},
     "output_type": "execute_result"
    }
   ],
   "source": [
    "from IPython.display import Image\n",
    "\n",
    "Image(compiled.get_graph().draw_png())"
   ]
  },
  {
   "cell_type": "code",
   "execution_count": null,
   "metadata": {
    "id": "SeYrjmBndKM-"
   },
   "outputs": [],
   "source": []
  }
 ],
 "metadata": {
  "colab": {
   "authorship_tag": "ABX9TyN2+T3rybbkDug7sqzs/MHy",
   "provenance": []
  },
  "kernelspec": {
   "display_name": "Python 3 (ipykernel)",
   "language": "python",
   "name": "python3"
  },
  "language_info": {
   "codemirror_mode": {
    "name": "ipython",
    "version": 3
   },
   "file_extension": ".py",
   "mimetype": "text/x-python",
   "name": "python",
   "nbconvert_exporter": "python",
   "pygments_lexer": "ipython3",
   "version": "3.12.11"
  }
 },
 "nbformat": 4,
 "nbformat_minor": 4
}
