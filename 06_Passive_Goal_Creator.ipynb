{
 "cells": [
  {
   "cell_type": "markdown",
   "metadata": {
    "id": "qFBZZUOBWsSl"
   },
   "source": [
    "# パッシブゴールクリエイターの実装\n",
    "* 『LangChainとLangGraphによるRAG・AIエージェント実践入門（12章より)』\n",
    "* ユーザーからの具体的な目標を抽出するパターン"
   ]
  },
  {
   "cell_type": "code",
   "execution_count": 1,
   "metadata": {
    "colab": {
     "base_uri": "https://localhost:8080/",
     "height": 1000
    },
    "executionInfo": {
     "elapsed": 32365,
     "status": "ok",
     "timestamp": 1751530728844,
     "user": {
      "displayName": "yo it",
      "userId": "02303648966403166717"
     },
     "user_tz": -540
    },
    "id": "KutHXjiEWoOn",
    "outputId": "27b83d97-3767-4821-8996-c03d0a902161"
   },
   "outputs": [],
   "source": [
    "# !pip install langchain-core==0.3.0 langchain-community==0.3.0 \\\n",
    "# langgraph==0.2.22 langchain-openai==0.2.0 langchain-anthropic==0.2.0 \\\n",
    "# numpy==1.26.4 faiss-cpu==1.8.0.post1 \\\n",
    "# pydantic-settings==2.5.2 retry==0.9.2 decorator==4.4.2"
   ]
  },
  {
   "cell_type": "code",
   "execution_count": 2,
   "metadata": {
    "colab": {
     "base_uri": "https://localhost:8080/",
     "height": 544
    },
    "executionInfo": {
     "elapsed": 12296,
     "status": "ok",
     "timestamp": 1751531831535,
     "user": {
      "displayName": "yo it",
      "userId": "02303648966403166717"
     },
     "user_tz": -540
    },
    "id": "AdpiehPbboiV",
    "outputId": "3c5c6a81-8e5c-4252-ebcb-7c06384328a9"
   },
   "outputs": [],
   "source": [
    "# !pip install \"pydantic<2.11\"  # 例: 2.10.6 エラー回避用"
   ]
  },
  {
   "cell_type": "code",
   "execution_count": 1,
   "metadata": {
    "executionInfo": {
     "elapsed": 8,
     "status": "ok",
     "timestamp": 1751531842972,
     "user": {
      "displayName": "yo it",
      "userId": "02303648966403166717"
     },
     "user_tz": -540
    },
    "id": "K9lqix9HXUo-"
   },
   "outputs": [],
   "source": [
    "from dotenv import load_dotenv\n",
    "load_dotenv()"
   ]
  },
  {
   "cell_type": "code",
   "execution_count": 2,
   "metadata": {
    "executionInfo": {
     "elapsed": 13,
     "status": "ok",
     "timestamp": 1751531843839,
     "user": {
      "displayName": "yo it",
      "userId": "02303648966403166717"
     },
     "user_tz": -540
    },
    "id": "m14iQLGNXsda"
   },
   "outputs": [],
   "source": [
    "# import os\n",
    "\n",
    "# os.environ[\"OPENAI_API_KEY\"] = OPENAI_API_KEY\n",
    "# os.environ[\"LANGCHAIN_TRACING_V2\"] = \"true\"\n",
    "# os.environ[\"LANGCHAIN_ENDPOINT\"] = \"https://api.smith.langchain.com\"\n",
    "# os.environ[\"LANGCHAIN_API_KEY\"] = LANGCHAIN_API_KEY\n",
    "# os.environ[\"LANGCHAIN_PROJECT\"] = LANGCHAIN_PROJECT"
   ]
  },
  {
   "cell_type": "code",
   "execution_count": 3,
   "metadata": {
    "executionInfo": {
     "elapsed": 1833,
     "status": "ok",
     "timestamp": 1751531846720,
     "user": {
      "displayName": "yo it",
      "userId": "02303648966403166717"
     },
     "user_tz": -540
    },
    "id": "wfG356ZYX3DY"
   },
   "outputs": [],
   "source": [
    "from langchain_core.prompts import ChatPromptTemplate\n",
    "from langchain_openai import ChatOpenAI\n",
    "from pydantic import BaseModel, Field"
   ]
  },
  {
   "cell_type": "markdown",
   "metadata": {
    "id": "TOpxRXacYLIB"
   },
   "source": [
    "## 「目標」を表現するデータモデル"
   ]
  },
  {
   "cell_type": "code",
   "execution_count": 4,
   "metadata": {
    "executionInfo": {
     "elapsed": 10,
     "status": "ok",
     "timestamp": 1751531846732,
     "user": {
      "displayName": "yo it",
      "userId": "02303648966403166717"
     },
     "user_tz": -540
    },
    "id": "MADu8DRWYJLG"
   },
   "outputs": [],
   "source": [
    "class Goal(BaseModel):\n",
    "    description: str = Field(..., description=\"目標の説明\")\n",
    "\n",
    "    # textプロパティを設定することで、目標の値を文字列として取得できるようにする\n",
    "    @property\n",
    "    def text(self) -> str:\n",
    "        return f\"{self.description}\""
   ]
  },
  {
   "cell_type": "markdown",
   "metadata": {
    "id": "NR8Qy5stYzUx"
   },
   "source": [
    "## プロンプト\n",
    "* ここでは、明確で実行可能な目標についてはLLM自身に考えてもらうプロンプト"
   ]
  },
  {
   "cell_type": "code",
   "execution_count": 5,
   "metadata": {
    "executionInfo": {
     "elapsed": 17,
     "status": "ok",
     "timestamp": 1751531848638,
     "user": {
      "displayName": "yo it",
      "userId": "02303648966403166717"
     },
     "user_tz": -540
    },
    "id": "FlhrTNMIZBRt"
   },
   "outputs": [],
   "source": [
    "class PassiveGoalCreator:\n",
    "    def __init__(\n",
    "        self,\n",
    "        llm: ChatOpenAI,\n",
    "    ):\n",
    "        self.llm = llm\n",
    "\n",
    "    def run(self, query: str) -> Goal:\n",
    "        prompt = ChatPromptTemplate.from_template(\n",
    "            \"ユーザーの入力を分析し、明確で実行可能な目標を生成してください。\\n\"\n",
    "            \"要件:\\n\"\n",
    "            \"1. 目標は具体的かつ明確であり、実行可能なレベルで詳細化されている必要があります。\\n\"\n",
    "            \"2. あなたが実行可能な行動は以下の行動だけです。\\n\"\n",
    "            \"   - インターネットを利用して、目標を達成するための調査を行う。\\n\"\n",
    "            \"   - ユーザーのためのレポートを生成する。\\n\"\n",
    "            \"3. 決して2.以外の行動を取ってはいけません。\\n\"\n",
    "            \"ユーザーの入力: {query}\"\n",
    "        )\n",
    "        chain = prompt | self.llm.with_structured_output(Goal)\n",
    "        return chain.invoke({\"query\": query})"
   ]
  },
  {
   "cell_type": "markdown",
   "metadata": {
    "id": "lPegLyIaa9uR"
   },
   "source": [
    "## 実行"
   ]
  },
  {
   "cell_type": "code",
   "execution_count": 6,
   "metadata": {
    "colab": {
     "base_uri": "https://localhost:8080/"
    },
    "executionInfo": {
     "elapsed": 3451,
     "status": "ok",
     "timestamp": 1751531854057,
     "user": {
      "displayName": "yo it",
      "userId": "02303648966403166717"
     },
     "user_tz": -540
    },
    "id": "7QL5gsEHa_sr",
    "outputId": "6091c71e-7118-411b-884e-66773f7375fe"
   },
   "outputs": [
    {
     "name": "stdout",
     "output_type": "stream",
     "text": [
      "カレーライスの作り方を調査し、ユーザーにわかりやすく説明するレポートを生成する。\n"
     ]
    }
   ],
   "source": [
    "query = \"カレーライスの作り方\"\n",
    "\n",
    "llm = ChatOpenAI(model=\"gpt-4o\", temperature=0.0)\n",
    "\n",
    "goal_creator = PassiveGoalCreator(llm=llm)\n",
    "\n",
    "result: Goal = goal_creator.run(query=query)\n",
    "\n",
    "# `@property`により、textメソッで呼び出せるようになっている\n",
    "print(f\"{result.text}\")"
   ]
  },
  {
   "cell_type": "markdown",
   "metadata": {
    "id": "-XOF6KW6b49V"
   },
   "source": [
    "「カレーライスの作り方」というあいまいな要求が、「カレーライスの作り方を調査し、ユーザーにわかりやすく説明するレポートを生成する。」という具体的な目標に改善されている。"
   ]
  },
  {
   "cell_type": "code",
   "execution_count": null,
   "metadata": {
    "id": "8c7I_VY3baW6"
   },
   "outputs": [],
   "source": []
  },
  {
   "cell_type": "markdown",
   "metadata": {
    "id": "yv8qe_mrg0Ai"
   },
   "source": [
    "# @propertyデコレーターについて\n",
    "\n",
    "\n",
    "Python の **`@property` デコレータ** は、クラス内のメソッドを “関数呼び出し” ではなく **属性アクセスのように使えるプロパティ** に変換する仕組みです。これにより「外部 API からはシンプルなフィールドに見えるが、内部では計算・検証・キャッシュなどを挟みたい」という要件をスマートに満たせます。提示コードでは `Goal.text` を定義することで、`Goal` インスタンスに対して `goal.text` と書くだけで説明付き文字列が得られる――そして `goal.text()` のように丸括弧を付ける必要がなくなる――というわけです。以下で詳しく仕組みとメリット、使い方を解説します。\n",
    "\n",
    "---\n",
    "\n",
    "## 1. `@property` の基本動作\n",
    "\n",
    "### 1.1 属性アクセスに変換\n",
    "\n",
    "`@property` を付けたメソッドは **呼び出し不要で値を返す属性** になります。([geeksforgeeks.org][1])\n",
    "\n",
    "```python\n",
    "class Point:\n",
    "    def __init__(self, x):\n",
    "        self._x = x          # 本体は“隠し”属性に保持\n",
    "\n",
    "    @property\n",
    "    def x(self):\n",
    "        return self._x       # ここで検証・加工も可能\n",
    "```\n",
    "\n",
    "呼び出し側は `p = Point(3); print(p.x)` と **属性扱い**で取得でき、`p.x()` とは書きません。\n",
    "\n",
    "### 1.2 バックエンド値のカプセル化\n",
    "\n",
    "* 後でバリデーションを追加したくなっても **外部 API を壊さず** に getter／setter を入れ替えられる点が大きな利点です。([stackoverflow.com][2])\n",
    "* さらに `@<prop>.setter`、`@<prop>.deleter` を追加すれば書き込み・削除時の処理も制御できます。([stackoverflow.com][3])\n",
    "\n",
    "---\n",
    "\n",
    "## 2. コード例で見る `Goal.text` プロパティ\n",
    "\n",
    "```python\n",
    "class Goal(BaseModel):\n",
    "    description: str = Field(..., description=\"目標の説明\")\n",
    "\n",
    "    @property\n",
    "    def text(self) -> str:\n",
    "        return f\"{self.description}\"\n",
    "```\n",
    "\n",
    "1. **`description`** は pydantic フィールド。\n",
    "2. **`text` プロパティ**は `description` をフォーマットして返すだけだが、呼び出し側は\n",
    "\n",
    "   ```python\n",
    "   goal = Goal(description=\"簿記3級の合格\")\n",
    "   print(goal.text)  # ⇒ \"簿記3級の合格\"\n",
    "   ```\n",
    "\n",
    "   とシンプルに使える。\n",
    "\n",
    "### 2.1 pydantic との相性\n",
    "\n",
    "* Pydantic v2 では **プロパティは通常フィールドとして検証対象にならず**、モデルのメタデータにも入らないため「派生値」や「表示用文字列」を定義する場所として適切です。([docs.pydantic.dev][4])\n",
    "\n",
    "---\n",
    "\n",
    "## 3. 典型的なユースケース\n",
    "\n",
    "| ユースケース                      | 解説                                                     |\n",
    "| --------------------------- | ------------------------------------------------------ |\n",
    "| **読み取り専用の派生値**              | 距離、面積、文字列連結など計算結果をキャッシュせず返す。([stratascratch.com][5])   |\n",
    "| **バリデーション付き getter／setter** | 値をセットする際に型の整合や範囲チェックを行う。([realpython.com][6])          |\n",
    "| **遅延計算＋メモ化**                | 計算コストの高い値を初アクセス時に計算し、別変数に保持。                           |\n",
    "| **後方互換 API**                | もともと公開属性だったものを内部実装変更しても外部インターフェイスを保つ。([reddit.com][7]) |\n",
    "\n",
    "---\n",
    "\n",
    "## 4. 使い方の注意点\n",
    "\n",
    "1. **重い処理を毎回行わない**\n",
    "\n",
    "   * 毎アクセスで計算するとパフォーマンスに影響。必要なら内部にキャッシュ変数を置く設計に。\n",
    "2. **サブクラスで拡張しにくい**\n",
    "\n",
    "   * `@property` はメソッド名を再定義しなければオーバーライドできないため、複雑な多重継承では注意。([stackoverflow.com][2])\n",
    "3. **pydantic フィールドとは独立**\n",
    "\n",
    "   * プロパティはスキーマに含まれないので JSON シリアライズには出てこない（必要なら `@model_serializer` を使う）。([stackoverflow.com][8])\n",
    "\n",
    "---\n",
    "\n",
    "## 5. まとめ\n",
    "\n",
    "* **`@property` = メソッド → 読み取り専用属性**\n",
    "  *利点*: シンプルなアクセス記法・カプセル化・後方互換。\n",
    "* **提示コードの意図**\n",
    "  `Goal.text` により `Goal` インスタンスをそのまま LLMS の `with_structured_output` で使ったり、`goal.text` をプロンプト挿入文字列として再利用したりできる。\n",
    "* **pydantic モデルでの役割**\n",
    "  スキーマに含まず派生値・表示ラベルを提供する安全な方法。\n",
    "\n",
    "以上が `@property` の機能と、提示コードでの位置づけです。これによりクラス利用側は **「メソッド呼び出しの煩わしさなく派生値を受け取れる」** というメリットを享受できます。\n",
    "\n",
    "[1]: https://www.geeksforgeeks.org/python/python-property-decorator-property/?utm_source=chatgpt.com \"Python Property Decorator - GeeksforGeeks\"\n",
    "[2]: https://stackoverflow.com/questions/6618002/using-property-versus-getters-and-setters?utm_source=chatgpt.com \"Using @property versus getters and setters - python - Stack Overflow\"\n",
    "[3]: https://stackoverflow.com/questions/17330160/how-does-the-property-decorator-work-in-python?utm_source=chatgpt.com \"How does the @property decorator work in Python? - Stack Overflow\"\n",
    "[4]: https://docs.pydantic.dev/2.4/concepts/models/?utm_source=chatgpt.com \"Models - Pydantic\"\n",
    "[5]: https://www.stratascratch.com/blog/how-to-use-python-property-decorator-with-examples/?utm_source=chatgpt.com \"How to Use Python Property Decorator (With Examples)\"\n",
    "[6]: https://realpython.com/python-getter-setter/?utm_source=chatgpt.com \"Getters and Setters: Manage Attributes in Python\"\n",
    "[7]: https://www.reddit.com/r/learnpython/comments/osqvme/what_is_the_property_decorator_meant_to_be_used/?utm_source=chatgpt.com \"What is the @property decorator meant to be used for? : r/learnpython\"\n",
    "[8]: https://stackoverflow.com/questions/63264888/pydantic-using-property-getter-decorator-for-a-field-with-an-alias?utm_source=chatgpt.com \"pydantic: Using property.getter decorator for a field with an alias\"\n"
   ]
  },
  {
   "cell_type": "code",
   "execution_count": null,
   "metadata": {
    "id": "q9bUXwcbhkdA"
   },
   "outputs": [],
   "source": []
  }
 ],
 "metadata": {
  "colab": {
   "authorship_tag": "ABX9TyP1Kzx59xsWhaKqv6F90//i",
   "provenance": []
  },
  "kernelspec": {
   "display_name": "Python 3 (ipykernel)",
   "language": "python",
   "name": "python3"
  },
  "language_info": {
   "codemirror_mode": {
    "name": "ipython",
    "version": 3
   },
   "file_extension": ".py",
   "mimetype": "text/x-python",
   "name": "python",
   "nbconvert_exporter": "python",
   "pygments_lexer": "ipython3",
   "version": "3.12.11"
  }
 },
 "nbformat": 4,
 "nbformat_minor": 4
}
