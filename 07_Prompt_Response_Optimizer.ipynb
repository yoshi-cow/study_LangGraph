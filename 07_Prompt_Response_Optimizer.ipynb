{
 "cells": [
  {
   "cell_type": "markdown",
   "metadata": {
    "id": "SE1vQExzh3qD"
   },
   "source": [
    "# プロンプト／レスポンス最適化\n",
    "* 『LangChainとLangGraphによるRAG・AIエージェント実践入門（12章より)』\n",
    "* 生成された目標やユーザー要求を、より効果的なプロンプトに変換しLLMからより質の高い回答を得るパターン\n"
   ]
  },
  {
   "cell_type": "code",
   "execution_count": 2,
   "metadata": {
    "colab": {
     "base_uri": "https://localhost:8080/",
     "height": 1000
    },
    "executionInfo": {
     "elapsed": 25176,
     "status": "ok",
     "timestamp": 1751534299697,
     "user": {
      "displayName": "yo it",
      "userId": "02303648966403166717"
     },
     "user_tz": -540
    },
    "id": "ssX85j2Ek3Jz",
    "outputId": "bb85c220-e712-4109-ad8f-9272af555e76"
   },
   "outputs": [],
   "source": [
    "# !pip install langchain-core==0.3.0 langchain-community==0.3.0 \\\n",
    "# langgraph==0.2.22 langchain-openai==0.2.0 langchain-anthropic==0.2.0 \\\n",
    "# numpy==1.26.4 faiss-cpu==1.8.0.post1 \\\n",
    "# pydantic-settings==2.5.2 retry==0.9.2 decorator==4.4.2"
   ]
  },
  {
   "cell_type": "code",
   "execution_count": 3,
   "metadata": {
    "colab": {
     "base_uri": "https://localhost:8080/"
    },
    "executionInfo": {
     "elapsed": 10870,
     "status": "ok",
     "timestamp": 1751534327848,
     "user": {
      "displayName": "yo it",
      "userId": "02303648966403166717"
     },
     "user_tz": -540
    },
    "id": "fMJKJsM8lES1",
    "outputId": "7f6508ae-10bc-4619-f6b6-502da8ee043a"
   },
   "outputs": [],
   "source": [
    "# !pip install \"pydantic<2.11\"  # 例: 2.10.6 エラー回避用"
   ]
  },
  {
   "cell_type": "code",
   "execution_count": 23,
   "metadata": {
    "executionInfo": {
     "elapsed": 38,
     "status": "ok",
     "timestamp": 1751542817559,
     "user": {
      "displayName": "yo it",
      "userId": "02303648966403166717"
     },
     "user_tz": -540
    },
    "id": "S04Fm9XxlFCf"
   },
   "outputs": [],
   "source": [
    "from dotenv import load_dotenv\n",
    "load_dotenv()"
   ]
  },
  {
   "cell_type": "code",
   "execution_count": 24,
   "metadata": {
    "executionInfo": {
     "elapsed": 7,
     "status": "ok",
     "timestamp": 1751542818176,
     "user": {
      "displayName": "yo it",
      "userId": "02303648966403166717"
     },
     "user_tz": -540
    },
    "id": "CU6GDwNElE1L"
   },
   "outputs": [],
   "source": [
    "# import os\n",
    "\n",
    "# os.environ[\"OPENAI_API_KEY\"] = OPENAI_API_KEY\n",
    "# os.environ[\"LANGCHAIN_TRACING_V2\"] = \"true\"\n",
    "# os.environ[\"LANGCHAIN_ENDPOINT\"] = \"https://api.smith.langchain.com\"\n",
    "# os.environ[\"LANGCHAIN_API_KEY\"] = LANGCHAIN_API_KEY\n",
    "# os.environ[\"LANGCHAIN_PROJECT\"] = LANGCHAIN_PROJECT"
   ]
  },
  {
   "cell_type": "code",
   "execution_count": 25,
   "metadata": {
    "executionInfo": {
     "elapsed": 7,
     "status": "ok",
     "timestamp": 1751542819131,
     "user": {
      "displayName": "yo it",
      "userId": "02303648966403166717"
     },
     "user_tz": -540
    },
    "id": "ms42EQwZlPSv"
   },
   "outputs": [],
   "source": [
    "from langchain_core.prompts import ChatPromptTemplate\n",
    "from langchain_openai import ChatOpenAI\n",
    "from langchain_core.output_parsers import StrOutputParser\n",
    "from agent_tools.passive_goal_creator.main import Goal, PassiveGoalCreator\n",
    "from pydantic import BaseModel, Field\n",
    "from pprint import pprint"
   ]
  },
  {
   "cell_type": "markdown",
   "metadata": {
    "id": "Mnu9IHWckiQK"
   },
   "source": [
    "# プロンプト最適化\n",
    "* 入力された目標を基に、効果的なプロンプトを生成するプログラム"
   ]
  },
  {
   "cell_type": "markdown",
   "metadata": {
    "id": "oeWJWkBCkrIb"
   },
   "source": [
    "## データモデル定義\n",
    "* ここでの最適化の定義「より具体的で測定可能なもの」\n",
    "* 新たにmetricsフィールドを追加し、「目標の達成度を測定する方法」が設定されるように指示している。これにより、各目標に対して必ずその達成度を測定するための測定方法が含まれることになる"
   ]
  },
  {
   "cell_type": "code",
   "execution_count": 26,
   "metadata": {
    "executionInfo": {
     "elapsed": 7,
     "status": "ok",
     "timestamp": 1751542824302,
     "user": {
      "displayName": "yo it",
      "userId": "02303648966403166717"
     },
     "user_tz": -540
    },
    "id": "RmJb9BR4cK-L"
   },
   "outputs": [],
   "source": [
    "class OptimizedGoal(BaseModel):\n",
    "    description: str = Field(..., description=\"目標の説明\")\n",
    "    metrics: str = Field(..., description=\"目標の達成度を測定する方法\")\n",
    "\n",
    "    @property\n",
    "    def text(self) -> str:\n",
    "        return f\"{self.description}(測定基準: {self.metrics})\""
   ]
  },
  {
   "cell_type": "markdown",
   "metadata": {
    "id": "GS42Op0zmyB8"
   },
   "source": [
    "## プロンプトとチェーン\n",
    "* 各目標を具体的、測定可能、達成可能、関連性が高いものに最適化するように指示"
   ]
  },
  {
   "cell_type": "code",
   "execution_count": 27,
   "metadata": {
    "executionInfo": {
     "elapsed": 16,
     "status": "ok",
     "timestamp": 1751542825782,
     "user": {
      "displayName": "yo it",
      "userId": "02303648966403166717"
     },
     "user_tz": -540
    },
    "id": "L3kgUGiim7I5"
   },
   "outputs": [],
   "source": [
    "class PromptOptimizer:\n",
    "    def __init__(self, llm: ChatOpenAI):\n",
    "        self.llm = llm\n",
    "\n",
    "    def run(self, query: str) -> OptimizedGoal:\n",
    "        prompt = ChatPromptTemplate.from_template(\n",
    "            \"あなたは目標設定の専門家です。以下の目標をSMART原則（Specific: 具体的、Measurable: 測定可能、Achievable: 達成可能、Relevant: 関連性が高い、Time-bound: 期限がある）に基づいて最適化してください。\\n\\n\"\n",
    "            \"元の目標:\\n\"\n",
    "            \"{query}\\n\\n\"\n",
    "            \"指示:\\n\"\n",
    "            \"1. 元の目標を分析し、不足している要素や改善点を特定してください。\\n\"\n",
    "            \"2. あなたが実行可能な行動は以下の行動だけです。\\n\"\n",
    "            \"   - インターネットを利用して、目標を達成するための調査を行う。\\n\"\n",
    "            \"   - ユーザーのためのレポートを生成する。\\n\"\n",
    "            \"3. SMART原則の各要素を考慮しながら、目標を具体的かつ詳細に記載してください。\\n\"\n",
    "            \"   - 一切抽象的な表現を含んではいけません。\\n\"\n",
    "            \"   - 必ず全ての単語が実行可能かつ具体的であることを確認してください。\\n\"\n",
    "            \"4. 目標の達成度を測定する方法を具体的かつ詳細に記載してください。\\n\"\n",
    "            \"5. 元の目標で期限が指定されていない場合は、期限を考慮する必要はありません。\\n\"\n",
    "            \"6. REMEMBER: 決して2.以外の行動を取ってはいけません。\"\n",
    "        )\n",
    "        chain = prompt | self.llm.with_structured_output(OptimizedGoal)\n",
    "        return chain.invoke({\"query\": query})"
   ]
  },
  {
   "cell_type": "markdown",
   "metadata": {
    "id": "t2p9czk2n6Sl"
   },
   "source": [
    "## 実行"
   ]
  },
  {
   "cell_type": "code",
   "execution_count": 21,
   "metadata": {
    "colab": {
     "base_uri": "https://localhost:8080/",
     "height": 201
    },
    "executionInfo": {
     "elapsed": 5869,
     "status": "ok",
     "timestamp": 1751535651381,
     "user": {
      "displayName": "yo it",
      "userId": "02303648966403166717"
     },
     "user_tz": -540
    },
    "id": "JHhurYwIn6GN",
    "outputId": "c455fb7f-1172-4a76-e3b2-4fde0d1c7063"
   },
   "outputs": [
    {
     "data": {
      "application/vnd.google.colaboratory.intrinsic+json": {
       "type": "string"
      },
      "text/plain": [
       "'Passive Goal Creator出力：カレーライスの作り方を調査し、ユーザーにわかりやすいレポートを生成する。レポートには必要な材料、調理手順、調理時間、コツや注意点を含める。'"
      ]
     },
     "metadata": {},
     "output_type": "display_data"
    },
    {
     "name": "stdout",
     "output_type": "stream",
     "text": [
      "\n",
      "プロンプト最適化結果：\n",
      "\n"
     ]
    },
    {
     "data": {
      "application/vnd.google.colaboratory.intrinsic+json": {
       "type": "string"
      },
      "text/plain": [
       "'インターネットを利用して、カレーライスの作り方に関する情報を調査し、ユーザーにわかりやすいレポートを生成する。レポートには以下の要素を含める: 必要な材料のリスト、各材料の分量、調理手順の詳細なステップバイステップガイド、調理時間の見積もり、調理のコツや注意点。(測定基準: 生成したレポートが以下の基準を満たしているかを確認する: 1) 必要な材料が全てリストアップされていること。2) 各材料の分量が明記されていること。3) 調理手順がステップバイステップで詳細に記載されていること。4) 調理時間が具体的に見積もられていること。5) 調理のコツや注意点が少なくとも3つ含まれていること。)'"
      ]
     },
     "metadata": {},
     "output_type": "display_data"
    }
   ],
   "source": [
    "query = \"カレーライスの作り方\"\n",
    "\n",
    "llm = ChatOpenAI(model=\"gpt-4o\", temperature=0.0)\n",
    "\n",
    "# Passive Goal Creatorで目標を具体化\n",
    "passive_goal_creator = PassiveGoalCreator(llm=llm)\n",
    "goal: Goal = passive_goal_creator.run(query=query)\n",
    "\n",
    "# Prompt Optimizerによるプロンプト最適化\n",
    "prompt_optimizer = PromptOptimizer(llm=llm)\n",
    "optimized_goal: OptimizedGoal = prompt_optimizer.run(query=goal.text)\n",
    "\n",
    "display(f\"Passive Goal Creator出力：{goal.text}\")\n",
    "print(\"\\nプロンプト最適化結果：\\n\")\n",
    "display(f\"{optimized_goal.text}\")"
   ]
  },
  {
   "cell_type": "code",
   "execution_count": null,
   "metadata": {
    "id": "MDnV2FGMp2I4"
   },
   "outputs": [],
   "source": []
  },
  {
   "cell_type": "markdown",
   "metadata": {
    "id": "xS_D9esCqnJY"
   },
   "source": [
    "# レスポンス最適化\n",
    "* ユーザーが入力したプロンプトから、そのプロンプトの目標を達成するために必要なレスポンス仕様を出力するプロンプトを定義"
   ]
  },
  {
   "cell_type": "code",
   "execution_count": 28,
   "metadata": {
    "executionInfo": {
     "elapsed": 23,
     "status": "ok",
     "timestamp": 1751542829356,
     "user": {
      "displayName": "yo it",
      "userId": "02303648966403166717"
     },
     "user_tz": -540
    },
    "id": "Pmbdv1UNEZN7"
   },
   "outputs": [],
   "source": [
    "class ResponseOptimizer:\n",
    "    def __init__(self, llm: ChatOpenAI):\n",
    "        self.llm = llm\n",
    "\n",
    "    def run(self, query: str) -> str:\n",
    "        prompt = ChatPromptTemplate.from_messages(\n",
    "            [\n",
    "                (\n",
    "                    \"system\",\n",
    "                    \"あなたはAIエージェントシステムのレスポンス最適化スペシャリストです。与えられた目標に対して、エージェントが目標にあったレスポンスを返すためのレスポンス仕様を策定してください。\",\n",
    "                ),\n",
    "                (\n",
    "                    \"human\",\n",
    "                    \"以下の手順に従って、レスポンス最適化プロンプトを作成してください：\\n\\n\"\n",
    "                    \"1. 目標分析:\\n\"\n",
    "                    \"提示された目標を分析し、主要な要素や意図を特定してください。\\n\\n\"\n",
    "                    \"2. レスポンス仕様の策定:\\n\"\n",
    "                    \"目標達成のための最適なレスポンス仕様を考案してください。トーン、構造、内容の焦点などを考慮に入れてください。\\n\\n\"\n",
    "                    \"3. 具体的な指示の作成:\\n\"\n",
    "                    \"事前に収集された情報から、ユーザーの期待に沿ったレスポンスをするために必要な、AIエージェントに対する明確で実行可能な指示を作成してください。あなたの指示によってAIエージェントが実行可能なのは、既に調査済みの結果をまとめることだけです。インターネットへのアクセスはできません。\\n\\n\"\n",
    "                    \"4. 例の提供:\\n\"\n",
    "                    \"可能であれば、目標に沿ったレスポンスの例を1つ以上含めてください。\\n\\n\"\n",
    "                    \"5. 評価基準の設定:\\n\"\n",
    "                    \"レスポンスの効果を測定するための基準を定義してください。\\n\\n\"\n",
    "                    \"以下の構造でレスポンス最適化プロンプトを出力してください:\\n\\n\"\n",
    "                    \"目標分析:\\n\"\n",
    "                    \"[ここに目標の分析結果を記入]\\n\\n\"\n",
    "                    \"レスポンス仕様:\\n\"\n",
    "                    \"[ここに策定されたレスポンス仕様を記入]\\n\\n\"\n",
    "                    \"AIエージェントへの指示:\\n\"\n",
    "                    \"[ここにAIエージェントへの具体的な指示を記入]\\n\\n\"\n",
    "                    \"レスポンス例:\\n\"\n",
    "                    \"[ここにレスポンス例を記入]\\n\\n\"\n",
    "                    \"評価基準:\\n\"\n",
    "                    \"[ここに評価基準を記入]\\n\\n\"\n",
    "                    \"では、以下の目標に対するレスポンス最適化プロンプトを作成してください:\\n\"\n",
    "                    \"{query}\",\n",
    "                ),\n",
    "            ]\n",
    "        )\n",
    "        chain = prompt | self.llm | StrOutputParser()\n",
    "        return chain.invoke({\"query\": query})"
   ]
  },
  {
   "cell_type": "markdown",
   "metadata": {
    "id": "2S92Lk3lFdF7"
   },
   "source": [
    "## 実行"
   ]
  },
  {
   "cell_type": "code",
   "execution_count": 32,
   "metadata": {
    "colab": {
     "base_uri": "https://localhost:8080/"
    },
    "executionInfo": {
     "elapsed": 37623,
     "status": "ok",
     "timestamp": 1751543120659,
     "user": {
      "displayName": "yo it",
      "userId": "02303648966403166717"
     },
     "user_tz": -540
    },
    "id": "u1rHAG1oFelb",
    "outputId": "ab6f0495-4a98-421c-99cd-17cddfbe7b5c"
   },
   "outputs": [
    {
     "name": "stdout",
     "output_type": "stream",
     "text": [
      "('Passive Goal '\n",
      " 'Creator出力：カレーライスの作り方を調査し、ユーザーにわかりやすいレポートを生成する。具体的には、必要な材料、調理手順、調理時間、注意点などを含めた詳細なレポートを作成する。')\n",
      "\n",
      "プロンプト最適化結果：\n",
      "\n",
      "('インターネットを利用して、カレーライスの作り方に関する情報を調査し、必要な材料、調理手順、調理時間、注意点を含む詳細なレポートを作成する。レポートはユーザーが理解しやすい形式で、箇条書きや図を用いて視覚的に整理する。(測定基準: '\n",
      " 'レポートに含まれる情報の正確性と詳細さ、ユーザーからのフィードバックの質、レポートの完成度を評価する。具体的には、必要な材料が全てリストアップされているか、調理手順がステップごとに明確に記載されているか、調理時間が具体的に示されているか、注意点が適切に強調されているかを確認する。さらに、ユーザーがレポートを理解しやすいと感じたかどうかをアンケートで評価する。)')\n",
      "\n",
      "レスポンス最適化結果：\n",
      "\n",
      "('目標分析:\\n'\n",
      " 'この目標は、カレーライスの作り方に関する詳細なレポートを作成することを目的としています。主要な要素は、必要な材料、調理手順、調理時間、注意点の4つです。レポートは視覚的に整理され、ユーザーが理解しやすい形式で提供される必要があります。情報の正確性と詳細さ、ユーザーからのフィードバック、レポートの完成度が評価基準となります。\\n'\n",
      " '\\n'\n",
      " 'レスポンス仕様:\\n'\n",
      " '- トーン: フレンドリーで親しみやすく、かつプロフェッショナル。\\n'\n",
      " '- 構造: 材料リスト、調理手順、調理時間、注意点の順にセクションを分ける。箇条書きや図を用いて視覚的に整理。\\n'\n",
      " '- 内容の焦点: 各セクションで情報を詳細かつ正確に提供し、特に注意点は強調する。\\n'\n",
      " '\\n'\n",
      " 'AIエージェントへの指示:\\n'\n",
      " '1. カレーライスの作り方に関する既存の情報をもとに、以下のセクションを作成してください。\\n'\n",
      " '2. 必要な材料をリストアップし、分量を明記してください。\\n'\n",
      " '3. 調理手順をステップごとに明確に記載してください。\\n'\n",
      " '4. 調理時間を具体的に示してください。\\n'\n",
      " '5. 調理中の注意点を強調して記載してください。\\n'\n",
      " '6. 各セクションを箇条書きや図を用いて視覚的に整理してください。\\n'\n",
      " '\\n'\n",
      " 'レスポンス例:\\n'\n",
      " '```\\n'\n",
      " '### カレーライスの作り方\\n'\n",
      " '\\n'\n",
      " '#### 必要な材料\\n'\n",
      " '- カレールー: 1箱\\n'\n",
      " '- 玉ねぎ: 2個\\n'\n",
      " '- 人参: 1本\\n'\n",
      " '- じゃがいも: 2個\\n'\n",
      " '- 牛肉: 300g\\n'\n",
      " '- 水: 800ml\\n'\n",
      " '- サラダ油: 大さじ1\\n'\n",
      " '\\n'\n",
      " '#### 調理手順\\n'\n",
      " '1. 玉ねぎ、人参、じゃがいもを一口大に切ります。\\n'\n",
      " '2. 鍋にサラダ油を熱し、牛肉を炒めます。\\n'\n",
      " '3. 肉の色が変わったら、玉ねぎ、人参、じゃがいもを加えて炒めます。\\n'\n",
      " '4. 水を加え、沸騰したらアクを取り除きます。\\n'\n",
      " '5. 弱火にして20分煮込みます。\\n'\n",
      " '6. 火を止めてカレールーを加え、溶かします。\\n'\n",
      " '7. 再び弱火で10分煮込み、完成です。\\n'\n",
      " '\\n'\n",
      " '#### 調理時間\\n'\n",
      " '- 約40分\\n'\n",
      " '\\n'\n",
      " '#### 注意点\\n'\n",
      " '- カレールーを加える前に火を止めることで、ルーが溶けやすくなります。\\n'\n",
      " '- アクをしっかり取ることで、スープが澄んで美味しくなります。\\n'\n",
      " '```\\n'\n",
      " '\\n'\n",
      " '評価基準:\\n'\n",
      " '- レポートに含まれる情報の正確性と詳細さ: 材料、手順、時間、注意点が正確かつ詳細に記載されているか。\\n'\n",
      " '- ユーザーからのフィードバックの質: レポートが理解しやすいと感じたかどうかをアンケートで評価。\\n'\n",
      " '- レポートの完成度: 視覚的に整理されているか、情報が漏れなく含まれているか。')\n"
     ]
    }
   ],
   "source": [
    "query = \"カレーライスの作り方\"\n",
    "\n",
    "llm = ChatOpenAI(model=\"gpt-4o\", temperature=0.0)\n",
    "\n",
    "# Passive Goal Creatorで目標を具体化\n",
    "passive_goal_creator = PassiveGoalCreator(llm=llm)\n",
    "goal: Goal = passive_goal_creator.run(query=query)\n",
    "\n",
    "# Prompt Optimizerによるプロンプト最適化\n",
    "prompt_optimizer = PromptOptimizer(llm=llm)\n",
    "optimized_goal: OptimizedGoal = prompt_optimizer.run(query=goal.text)\n",
    "\n",
    "# Response Optimizerによるレスポンス最適化\n",
    "response_optimizer = ResponseOptimizer(llm=llm)\n",
    "optimized_response: str = response_optimizer.run(query=optimized_goal.text)\n",
    "\n",
    "pprint(f\"Passive Goal Creator出力：{goal.text}\")\n",
    "print(\"\\nプロンプト最適化結果：\\n\")\n",
    "pprint(f\"{optimized_goal.text}\")\n",
    "print(\"\\nレスポンス最適化結果：\\n\")\n",
    "pprint(f\"{optimized_response}\")"
   ]
  },
  {
   "cell_type": "markdown",
   "metadata": {
    "id": "HIXSxhFpG65y"
   },
   "source": [
    "レスポンス最適化によって、AIエージェントに入力するクエリの最適化だけでなく、AIエージェントから出力される内容の最適化までを実現できる。  \n"
   ]
  },
  {
   "cell_type": "code",
   "execution_count": null,
   "metadata": {
    "id": "zGRgtlC6GbYR"
   },
   "outputs": [],
   "source": []
  }
 ],
 "metadata": {
  "colab": {
   "authorship_tag": "ABX9TyMKVSIZYtnO2S2CnQdf6I8A",
   "provenance": []
  },
  "kernelspec": {
   "display_name": "Python 3 (ipykernel)",
   "language": "python",
   "name": "python3"
  },
  "language_info": {
   "codemirror_mode": {
    "name": "ipython",
    "version": 3
   },
   "file_extension": ".py",
   "mimetype": "text/x-python",
   "name": "python",
   "nbconvert_exporter": "python",
   "pygments_lexer": "ipython3",
   "version": "3.12.11"
  }
 },
 "nbformat": 4,
 "nbformat_minor": 4
}
